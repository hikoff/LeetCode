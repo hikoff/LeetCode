{
 "cells": [
  {
   "cell_type": "code",
   "execution_count": null,
   "id": "54b06e5a-dd5b-45e5-82c9-ffa8db46f0f7",
   "metadata": {},
   "outputs": [],
   "source": [
    "class ListNode:\n",
    "    def __init__(self, val=0, next=None):\n",
    "        self.val = val\n",
    "        self.next = next\n",
    "\n",
    "class Solution:\n",
    "    def addTwoNumbers(self, l1: Optional[ListNode], l2: Optional[ListNode]) -> Optional[ListNode]:\n",
    "        l1.reverse()\n",
    "        l2.reverse()\n",
    "        strL1=\"\"\n",
    "        strL2=\"\"\n",
    "        for i in l1:\n",
    "            strL1+=str(i)\n",
    "\n",
    "        for i in l2:\n",
    "            strL2+=str(i)\n",
    "\n",
    "        result=int(strL1)+int(strL2)\n",
    "\n",
    "        for i in str(sonuc):\n",
    "            out.append(int(i))\n",
    "\n",
    "        out.reverse()\n",
    "        \n",
    "        \n",
    "#listnode classına reverse fonksiyonunu eklemeyi başaramadım bu yüzden çalışmıyor eğer kod normal bir derleyicide sorunusuz çalışıyor."
   ]
  }
 ],
 "metadata": {
  "kernelspec": {
   "display_name": "Python 3 (ipykernel)",
   "language": "python",
   "name": "python3"
  },
  "language_info": {
   "codemirror_mode": {
    "name": "ipython",
    "version": 3
   },
   "file_extension": ".py",
   "mimetype": "text/x-python",
   "name": "python",
   "nbconvert_exporter": "python",
   "pygments_lexer": "ipython3",
   "version": "3.12.4"
  }
 },
 "nbformat": 4,
 "nbformat_minor": 5
}
